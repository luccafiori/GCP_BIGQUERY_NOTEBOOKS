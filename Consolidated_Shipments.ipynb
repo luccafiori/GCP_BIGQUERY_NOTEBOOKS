{
  "cells": [
    {
      "cell_type": "markdown",
      "metadata": {
        "id": "view-in-github",
        "colab_type": "text"
      },
      "source": [
        "<a href=\"https://colab.research.google.com/github/luccafiori/GCP_BIGQUERY_NOTEBOOKS/blob/main/Consolidated_Shipments.ipynb\" target=\"_parent\"><img src=\"https://colab.research.google.com/assets/colab-badge.svg\" alt=\"Open In Colab\"/></a>"
      ]
    },
    {
      "cell_type": "code",
      "execution_count": 11,
      "metadata": {
        "id": "fsAsHoWDZMpv"
      },
      "outputs": [],
      "source": [
        "#Setup\n",
        "from google.colab import auth\n",
        "from google.cloud import bigquery\n",
        "from google.colab import data_table\n",
        "import pandas as pd\n",
        "\n",
        "project = 'sz-snop-dev' # Project ID inserted based on the query results selected to explore\n",
        "location = 'southamerica-east1' # Location inserted based on the query results selected to explore\n",
        "client = bigquery.Client(project=project, location=location)\n",
        "data_table.enable_dataframe_formatter()\n",
        "auth.authenticate_user()\n",
        "\n",
        "#job ids in GCP (Queries results)\n",
        "\n",
        "job_ids = ['bquxjob_49014464_18e1c31b35e', 'bquxjob_65747021_18e1c31a697', 'bquxjob_7c05de01_18e1c318d87']\n",
        "results_list = [client.get_job(job_id).to_dataframe().assign(job_id=job_id) for job_id in job_ids]\n",
        "\n",
        "# Concatenate all results into a single dataframe\n",
        "combined_results = pd.concat(results_list)\n",
        "\n",
        "# convert time zone\n",
        "def convert_timezone_aware_to_naive(df):\n",
        "    for col in combined_results.select_dtypes(include=['datetime64[ns]', 'datetime64[ns, UTC]']).columns:\n",
        "        combined_results[col] = combined_results[col].dt.tz_convert(None)\n",
        "    return combined_results\n",
        "\n",
        "# Apply the function to your DataFrame\n",
        "combined_results = convert_timezone_aware_to_naive(combined_results)\n",
        "#\n",
        "\n",
        "file_path = 'Consolidated_Shipments.xlsx'\n",
        "combined_results.to_excel(file_path, index=False)"
      ]
    }
  ],
  "metadata": {
    "colab": {
      "cell_execution_strategy": "setup",
      "name": "BigQuery bquxjob_49014464_18e1c31b35e",
      "provenance": [],
      "include_colab_link": true
    },
    "kernelspec": {
      "display_name": "Python 3",
      "name": "python3"
    },
    "language_info": {
      "name": "python"
    }
  },
  "nbformat": 4,
  "nbformat_minor": 0
}